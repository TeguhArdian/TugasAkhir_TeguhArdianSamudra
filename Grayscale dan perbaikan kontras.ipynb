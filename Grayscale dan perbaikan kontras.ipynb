{
 "cells": [
  {
   "cell_type": "markdown",
   "metadata": {},
   "source": [
    "## RGB to Gray, green channel, perbaikan kontras"
   ]
  },
  {
   "cell_type": "markdown",
   "metadata": {},
   "source": [
    "### Import Library"
   ]
  },
  {
   "cell_type": "code",
   "execution_count": 2,
   "metadata": {},
   "outputs": [],
   "source": [
    "import cv2\n",
    "import os\n",
    "from PIL import Image, ImageOps\n",
    "import numpy as np"
   ]
  },
  {
   "cell_type": "markdown",
   "metadata": {},
   "source": [
    "### File Location"
   ]
  },
  {
   "cell_type": "code",
   "execution_count": 3,
   "metadata": {},
   "outputs": [],
   "source": [
    "# Data normal dan glaukoma\n",
    "image_folder_path ={\n",
    "    'rgb':\n",
    "    {\n",
    "        'r2':\n",
    "        {\n",
    "            'normal' : r\".\\dataset\\R2\\normal\",\n",
    "            'glaukoma': r\".\\dataset\\R2\\glaukoma\",   \n",
    "        },\n",
    "        'r3':\n",
    "        {\n",
    "            'normal' : r\".\\dataset\\R3\\normal\",\n",
    "            'glaukoma': r\".\\dataset\\R3\\glaukoma\",\n",
    "        }\n",
    "    },\n",
    "    'rgbtogray': \n",
    "    {\n",
    "        'r2':\n",
    "        {\n",
    "            'normal' : r\".\\dataset\\R2\\Gray\\normal\",\n",
    "            'glaukoma': r\".\\dataset\\R2\\Gray\\glaukoma\",\n",
    "        },\n",
    "        'r3':\n",
    "        {\n",
    "            'normal' : r\".\\dataset\\R3\\Gray\\normal\",\n",
    "            'glaukoma': r\".\\dataset\\R3\\Gray\\glaukoma\",\n",
    "        },\n",
    "        'green':\n",
    "        {\n",
    "            'r2':\n",
    "            {\n",
    "                'normal' : r\".\\dataset\\R2\\Gray\\green\\normal\",\n",
    "                'glaukoma': r\".\\dataset\\R2\\Gray\\green\\glaukoma\",\n",
    "            },\n",
    "            'r3':\n",
    "            {\n",
    "                'normal' : r\".\\dataset\\R3\\Gray\\green\\normal\",\n",
    "                'glaukoma': r\".\\dataset\\R3\\Gray\\green\\glaukoma\",\n",
    "            }\n",
    "        },\n",
    "        'clahe':\n",
    "        {\n",
    "            'r2':\n",
    "            {\n",
    "                'normal' : r\".\\dataset\\R2\\Gray\\CLAHE\\normal\",\n",
    "                'glaukoma': r\".\\dataset\\R2\\Gray\\CLAHE\\glaukoma\",\n",
    "            },\n",
    "            'r3':\n",
    "            {\n",
    "                'normal' : r\".\\dataset\\R3\\Gray\\CLAHE\\normal\",\n",
    "                'glaukoma': r\".\\dataset\\R3\\Gray\\CLAHE\\glaukoma\",\n",
    "            }\n",
    "        },\n",
    "        'kontras':\n",
    "        {\n",
    "            'r2':\n",
    "            {\n",
    "                'normal' : r\".\\dataset\\R2\\Gray\\Kontras\\normal\",\n",
    "                'glaukoma': r\".\\dataset\\R2\\Gray\\Kontras\\glaukoma\",\n",
    "            },\n",
    "            'r3':\n",
    "            {\n",
    "                'normal' : r\".\\dataset\\R3\\Gray\\Kontras\\normal\",\n",
    "                'glaukoma': r\".\\dataset\\R3\\Gray\\Kontras\\glaukoma\",\n",
    "            }\n",
    "        },\n",
    "        'histogram':\n",
    "        {\n",
    "            'r2':\n",
    "            {\n",
    "                'normal' : r\".\\dataset\\R2\\Gray\\Histogram\\normal\",\n",
    "                'glaukoma': r\".\\dataset\\R2\\Gray\\Histogram\\glaukoma\",\n",
    "            },\n",
    "            'r3':\n",
    "            {\n",
    "                'normal' : r\".\\dataset\\R3\\Gray\\Histogram\\normal\",\n",
    "                'glaukoma': r\".\\dataset\\R3\\Gray\\Histogram\\glaukoma\",\n",
    "            }\n",
    "        }\n",
    "    }\n",
    "}"
   ]
  },
  {
   "cell_type": "markdown",
   "metadata": {},
   "source": [
    "### RGB to Grayscale"
   ]
  },
  {
   "cell_type": "markdown",
   "metadata": {},
   "source": [
    "##### RGB --> Grayscale"
   ]
  },
  {
   "cell_type": "code",
   "execution_count": 21,
   "metadata": {},
   "outputs": [],
   "source": [
    "def ConvertImageRGBtoGrayscale(original_images_folder_path, grayscale_images_folder_path):\n",
    "    for filename in os.listdir(original_images_folder_path):\n",
    "        rgb_images_path = os.path.join(original_images_folder_path, filename)\n",
    "        new_image_save_path = os.path.join(grayscale_images_folder_path, filename)\n",
    "        \n",
    "        img = Image.open(rgb_images_path)\n",
    "        img = ImageOps.grayscale(img)\n",
    "        img.save(new_image_save_path)"
   ]
  },
  {
   "cell_type": "code",
   "execution_count": 28,
   "metadata": {},
   "outputs": [],
   "source": [
    "#r2\n",
    "ConvertImageRGBtoGrayscale(image_folder_path['rgb']['r2']['normal'],\n",
    "                           image_folder_path['rgbtogray']['r2']['normal'])\n",
    "ConvertImageRGBtoGrayscale(image_folder_path['rgb']['r2']['glaukoma'],\n",
    "                           image_folder_path['rgbtogray']['r2']['glaukoma'])\n",
    "#r3\n",
    "ConvertImageRGBtoGrayscale(image_folder_path['rgb']['r3']['normal'],\n",
    "                           image_folder_path['rgbtogray']['r3']['normal'])\n",
    "ConvertImageRGBtoGrayscale(image_folder_path['rgb']['r3']['glaukoma'],\n",
    "                           image_folder_path['rgbtogray']['r3']['glaukoma'])"
   ]
  },
  {
   "cell_type": "markdown",
   "metadata": {},
   "source": [
    "#### RGB --> green channel --> Grayscale"
   ]
  },
  {
   "cell_type": "code",
   "execution_count": 31,
   "metadata": {},
   "outputs": [],
   "source": [
    "#green channel\n",
    "def RGBChan(ori_images_folder_path, rgb_image_folder_path):\n",
    "    for filename in os.listdir(ori_images_folder_path):\n",
    "        ori_img = os.path.join(ori_images_folder_path, filename)\n",
    "        new_image_save_path = os.path.join(rgb_image_folder_path, filename)\n",
    "    \n",
    "        img = cv2.imread(ori_img)\n",
    "        img = cv2.cvtColor(img, cv2.COLOR_BGR2RGB)\n",
    "\n",
    "\n",
    "        mtxR = np.zeros(((300, 300, 3)), dtype=np.integer)\n",
    "        mtxG = np.zeros(((300, 300, 3)), dtype=np.integer)\n",
    "        mtxB = np.zeros(((300, 300, 3)), dtype=np.integer)\n",
    "\n",
    "\n",
    "        mtxR[:, :, 0] = img[:, :, 0]\n",
    "        mtxG[:, :, 1] = img[:, :, 1]\n",
    "        mtxB[:, :, 2] = img[:, :, 2]\n",
    "\n",
    "        mtxR = np.asarray(mtxR, np.uint8)\n",
    "        mtxG = np.asarray(mtxG, np.uint8)\n",
    "        mtxB = np.asarray(mtxB, np.uint8)\n",
    "        \n",
    "        Image.fromarray(mtxG).save(new_image_save_path)"
   ]
  },
  {
   "cell_type": "code",
   "execution_count": 36,
   "metadata": {},
   "outputs": [
    {
     "name": "stderr",
     "output_type": "stream",
     "text": [
      "C:\\ProgramData\\Anaconda3\\lib\\site-packages\\ipykernel_launcher.py:11: DeprecationWarning: Converting `np.integer` or `np.signedinteger` to a dtype is deprecated. The current result is `np.dtype(np.int_)` which is not strictly correct. Note that the result depends on the system. To ensure stable results use may want to use `np.int64` or `np.int32`.\n",
      "  # This is added back by InteractiveShellApp.init_path()\n",
      "C:\\ProgramData\\Anaconda3\\lib\\site-packages\\ipykernel_launcher.py:12: DeprecationWarning: Converting `np.integer` or `np.signedinteger` to a dtype is deprecated. The current result is `np.dtype(np.int_)` which is not strictly correct. Note that the result depends on the system. To ensure stable results use may want to use `np.int64` or `np.int32`.\n",
      "  if sys.path[0] == '':\n",
      "C:\\ProgramData\\Anaconda3\\lib\\site-packages\\ipykernel_launcher.py:13: DeprecationWarning: Converting `np.integer` or `np.signedinteger` to a dtype is deprecated. The current result is `np.dtype(np.int_)` which is not strictly correct. Note that the result depends on the system. To ensure stable results use may want to use `np.int64` or `np.int32`.\n",
      "  del sys.path[0]\n"
     ]
    }
   ],
   "source": [
    "#Mengubah RGB ke green channel\n",
    "#r2\n",
    "RGBChan(image_folder_path['rgb']['r2']['normal'],\n",
    "        image_folder_path['rgbtogray']['green']['r2']['normal'])\n",
    "RGBChan(image_folder_path['rgb']['r2']['glaukoma'],\n",
    "        image_folder_path['rgbtogray']['green']['r2']['glaukoma'])\n",
    "#r3\n",
    "RGBChan(image_folder_path['rgb']['r3']['normal'],\n",
    "        image_folder_path['rgbtogray']['green']['r3']['normal'])\n",
    "RGBChan(image_folder_path['rgb']['r3']['glaukoma'],\n",
    "        image_folder_path['rgbtogray']['green']['r3']['glaukoma'])\n",
    "\n",
    "#Mengubah green channel ke Grayscale\n",
    "#r2\n",
    "ConvertImageRGBtoGrayscale(image_folder_path['rgbtogray']['green']['r2']['normal'],\n",
    "                           image_folder_path['rgbtogray']['green']['r2']['normal'])\n",
    "ConvertImageRGBtoGrayscale(image_folder_path['rgbtogray']['green']['r2']['glaukoma'],\n",
    "                           image_folder_path['rgbtogray']['green']['r2']['glaukoma'])\n",
    "#r3\n",
    "ConvertImageRGBtoGrayscale(image_folder_path['rgbtogray']['green']['r3']['normal'],\n",
    "                           image_folder_path['rgbtogray']['green']['r3']['normal'])\n",
    "ConvertImageRGBtoGrayscale(image_folder_path['rgbtogray']['green']['r3']['glaukoma'],\n",
    "                           image_folder_path['rgbtogray']['green']['r3']['glaukoma'])"
   ]
  },
  {
   "cell_type": "markdown",
   "metadata": {},
   "source": [
    "### Perbaikan Kontras"
   ]
  },
  {
   "cell_type": "markdown",
   "metadata": {},
   "source": [
    "#### CLAHE"
   ]
  },
  {
   "cell_type": "code",
   "execution_count": 1,
   "metadata": {},
   "outputs": [],
   "source": [
    "def CLAHE(original_images_folder_path, histogram_images_folder_path):\n",
    "    for filename in os.listdir(original_images_folder_path):\n",
    "        rgb_images_path = os.path.join(original_images_folder_path, filename)\n",
    "        new_image_save_path = os.path.join(histogram_images_folder_path, filename)\n",
    "        \n",
    "        img = cv2.imread(rgb_images_path, 0)\n",
    "        clahe = cv2.createCLAHE(clipLimit =2.0, tileGridSize=(5,5))\n",
    "        cl_img = clahe.apply(img)\n",
    "        Image.fromarray(cl_img).save(new_image_save_path)\n",
    "#        equ.save(new_image_save_path)"
   ]
  },
  {
   "cell_type": "code",
   "execution_count": 10,
   "metadata": {},
   "outputs": [],
   "source": [
    "#r2\n",
    "CLAHE(image_folder_path['rgbtogray']['r2']['normal'],\n",
    "      image_folder_path['rgbtogray']['clahe']['r2']['normal'])\n",
    "CLAHE(image_folder_path['rgbtogray']['r2']['glaukoma'],\n",
    "      image_folder_path['rgbtogray']['clahe']['r2']['glaukoma'])\n",
    "#r3\n",
    "CLAHE(image_folder_path['rgbtogray']['r3']['normal'],\n",
    "      image_folder_path['rgbtogray']['clahe']['r3']['normal'])\n",
    "CLAHE(image_folder_path['rgbtogray']['r3']['glaukoma'],\n",
    "      image_folder_path['rgbtogray']['clahe']['r3']['glaukoma'])"
   ]
  },
  {
   "cell_type": "markdown",
   "metadata": {},
   "source": [
    "#### Contrast Stretching"
   ]
  },
  {
   "cell_type": "code",
   "execution_count": 11,
   "metadata": {},
   "outputs": [],
   "source": [
    "def Kontras(original_images_folder_path, histogram_images_folder_path):\n",
    "    for filename in os.listdir(original_images_folder_path):\n",
    "        rgb_images_path = os.path.join(original_images_folder_path, filename)\n",
    "        new_image_save_path = os.path.join(histogram_images_folder_path, filename)\n",
    "        \n",
    "        img = cv2.imread(rgb_images_path, 0)\n",
    "        original = img.copy()\n",
    "      #  xp = [0, 128, 255]\n",
    "      #  fp = [0, 256, 255]\n",
    "        xp = [0, 64, 255] #kadar gelap (hasil eksperimen)\n",
    "        fp = [0, 64, 255] #kadar terang/putih (hasil eksperimen)\n",
    "        x = np.arange(256)\n",
    "        table = np.interp(x, xp, fp).astype('uint8')\n",
    "        img = cv2.LUT(img, table)\n",
    "        Image.fromarray(img).save(new_image_save_path)\n",
    "#        equ.save(new_image_save_path)"
   ]
  },
  {
   "cell_type": "code",
   "execution_count": 15,
   "metadata": {},
   "outputs": [],
   "source": [
    "Kontras(image_folder_path['rgbtogray']['r2']['normal'],\n",
    "        image_folder_path['rgbtogray']['kontras']['r2']['normal'])\n",
    "Kontras(image_folder_path['rgbtogray']['r2']['glaukoma'],\n",
    "        image_folder_path['rgbtogray']['kontras']['r2']['glaukoma'])\n",
    "\n",
    "Kontras(image_folder_path['rgbtogray']['r3']['normal'],\n",
    "        image_folder_path['rgbtogray']['kontras']['r3']['normal'])\n",
    "Kontras(image_folder_path['rgbtogray']['r3']['glaukoma'],\n",
    "        image_folder_path['rgbtogray']['kontras']['r3']['glaukoma'])"
   ]
  },
  {
   "cell_type": "markdown",
   "metadata": {},
   "source": [
    "#### Histogram"
   ]
  },
  {
   "cell_type": "code",
   "execution_count": 1,
   "metadata": {},
   "outputs": [],
   "source": [
    "def Histogram(original_images_folder_path, histogram_images_folder_path):\n",
    "    for filename in os.listdir(original_images_folder_path):\n",
    "        rgb_images_path = os.path.join(original_images_folder_path, filename)\n",
    "        new_image_save_path = os.path.join(histogram_images_folder_path, filename)\n",
    "        \n",
    "        img = cv2.imread(rgb_images_path, 0)\n",
    "        equ = cv2.equalizeHist(img)\n",
    "        Image.fromarray(equ).save(new_image_save_path)\n",
    "#        equ.save(new_image_save_path)"
   ]
  },
  {
   "cell_type": "code",
   "execution_count": 4,
   "metadata": {},
   "outputs": [],
   "source": [
    "Histogram(image_folder_path['rgbtogray']['r2']['normal'],\n",
    "          image_folder_path['rgbtogray']['histogram']['r2']['normal'])\n",
    "Histogram(image_folder_path['rgbtogray']['r2']['glaukoma'],\n",
    "          image_folder_path['rgbtogray']['histogram']['r2']['glaukoma'])\n",
    "\n",
    "Histogram(image_folder_path['rgbtogray']['r3']['normal'],\n",
    "          image_folder_path['rgbtogray']['histogram']['r3']['normal'])\n",
    "Histogram(image_folder_path['rgbtogray']['r3']['glaukoma'],\n",
    "          image_folder_path['rgbtogray']['histogram']['r3']['glaukoma'])"
   ]
  },
  {
   "cell_type": "code",
   "execution_count": null,
   "metadata": {},
   "outputs": [],
   "source": []
  }
 ],
 "metadata": {
  "kernelspec": {
   "display_name": "Python 3",
   "language": "python",
   "name": "python3"
  },
  "language_info": {
   "codemirror_mode": {
    "name": "ipython",
    "version": 3
   },
   "file_extension": ".py",
   "mimetype": "text/x-python",
   "name": "python",
   "nbconvert_exporter": "python",
   "pygments_lexer": "ipython3",
   "version": "3.7.4"
  }
 },
 "nbformat": 4,
 "nbformat_minor": 2
}
